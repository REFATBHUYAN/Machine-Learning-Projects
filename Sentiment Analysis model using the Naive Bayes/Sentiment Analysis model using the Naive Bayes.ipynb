{
 "cells": [
  {
   "cell_type": "markdown",
   "id": "f1552a5a",
   "metadata": {},
   "source": [
    "#                              Sentiment Analysis model using the Naive Bayes"
   ]
  },
  {
   "cell_type": "markdown",
   "id": "58571d72",
   "metadata": {},
   "source": [
    "## Importing necessary libraries"
   ]
  },
  {
   "cell_type": "code",
   "execution_count": 4,
   "id": "b0f9438e",
   "metadata": {},
   "outputs": [
    {
     "name": "stderr",
     "output_type": "stream",
     "text": [
      "[nltk_data] Downloading package movie_reviews to\n",
      "[nltk_data]     C:\\Users\\Refat\\AppData\\Roaming\\nltk_data...\n",
      "[nltk_data]   Unzipping corpora\\movie_reviews.zip.\n"
     ]
    }
   ],
   "source": [
    "import nltk\n",
    "nltk.download('movie_reviews')\n",
    "from nltk.corpus import movie_reviews\n",
    "from nltk.classify import NaiveBayesClassifier\n",
    "from nltk.classify.util import accuracy as nltk_accuracy"
   ]
  },
  {
   "cell_type": "markdown",
   "id": "3d5984ff",
   "metadata": {},
   "source": [
    "## Function to extract features from words"
   ]
  },
  {
   "cell_type": "code",
   "execution_count": 2,
   "id": "eddb6e8a",
   "metadata": {},
   "outputs": [],
   "source": [
    "def extract_features(words):\n",
    "    return dict([(word, True) for word in words])"
   ]
  },
  {
   "cell_type": "markdown",
   "id": "b1f38080",
   "metadata": {},
   "source": [
    "## Load movie reviews from NLTK"
   ]
  },
  {
   "cell_type": "code",
   "execution_count": 15,
   "id": "b1c3fec0",
   "metadata": {},
   "outputs": [],
   "source": [
    "fileids_pos = movie_reviews.fileids('pos')\n",
    "\n",
    "fileids_neg = movie_reviews.fileids('neg')\n"
   ]
  },
  {
   "cell_type": "markdown",
   "id": "9b1777bf",
   "metadata": {},
   "source": [
    "## Extract features from movie reviews"
   ]
  },
  {
   "cell_type": "code",
   "execution_count": 17,
   "id": "e2c9d557",
   "metadata": {},
   "outputs": [],
   "source": [
    "features_pos = [(extract_features(movie_reviews.words(fileids=[f])), 'Positive') for f in fileids_pos]\n",
    "features_neg = [(extract_features(movie_reviews.words(fileids=[f])), 'Negative') for f in fileids_neg]"
   ]
  },
  {
   "cell_type": "markdown",
   "id": "f7c98d6b",
   "metadata": {},
   "source": [
    "## Split the data into training and testing datasets"
   ]
  },
  {
   "cell_type": "code",
   "execution_count": 7,
   "id": "d731d544",
   "metadata": {},
   "outputs": [],
   "source": [
    "threshold = 0.8\n",
    "num_pos = int(threshold * len(features_pos))\n",
    "num_neg = int(threshold * len(features_neg))"
   ]
  },
  {
   "cell_type": "markdown",
   "id": "e0a90e0f",
   "metadata": {},
   "source": [
    "## Create training and testing datasets"
   ]
  },
  {
   "cell_type": "code",
   "execution_count": 8,
   "id": "f9bc1704",
   "metadata": {},
   "outputs": [],
   "source": [
    "features_train = features_pos[:num_pos] + features_neg[:num_neg]\n",
    "features_test = features_pos[num_pos:] + features_neg[num_neg:]\n"
   ]
  },
  {
   "cell_type": "markdown",
   "id": "216189d4",
   "metadata": {},
   "source": [
    "## Train a Naive Bayes classifier"
   ]
  },
  {
   "cell_type": "code",
   "execution_count": 9,
   "id": "356c3bca",
   "metadata": {},
   "outputs": [],
   "source": [
    "classifier = NaiveBayesClassifier.train(features_train)"
   ]
  },
  {
   "cell_type": "markdown",
   "id": "547b5c76",
   "metadata": {},
   "source": [
    "## Test the classifier"
   ]
  },
  {
   "cell_type": "code",
   "execution_count": 10,
   "id": "5a91abc1",
   "metadata": {},
   "outputs": [
    {
     "name": "stdout",
     "output_type": "stream",
     "text": [
      "Accuracy: 0.735\n"
     ]
    }
   ],
   "source": [
    "accuracy = nltk_accuracy(classifier, features_test)\n",
    "print(\"Accuracy:\", accuracy)"
   ]
  },
  {
   "cell_type": "markdown",
   "id": "5cfb616f",
   "metadata": {},
   "source": [
    "## Example usage of the classifier"
   ]
  },
  {
   "cell_type": "code",
   "execution_count": 24,
   "id": "d5e4e6a0",
   "metadata": {},
   "outputs": [
    {
     "name": "stdout",
     "output_type": "stream",
     "text": [
      "\n",
      "Review: The movie was great!\n",
      "Predicted sentiment: Negative\n",
      "Probability: 0.53\n",
      "\n",
      "Review: The movie was terrible...\n",
      "Predicted sentiment: Negative\n",
      "Probability: 0.53\n",
      "\n",
      "Review: an action-packed South Indian film that seamlessly blends intense storytelling with breathtaking visuals\n",
      "Predicted sentiment: Positive\n",
      "Probability: 0.99\n",
      "\n",
      "Review: Very bad movies masquerading as a blockbuster! Salaar tries to dazzle with its style but it all a glossy facade with no real depth\n",
      "Predicted sentiment: Negative\n",
      "Probability: 0.51\n"
     ]
    }
   ],
   "source": [
    "input_reviews = [\n",
    "    \"The movie was great!\",\n",
    "    \"The movie was terrible...\",\n",
    "    \"an action-packed South Indian film that seamlessly blends intense storytelling with breathtaking visuals\",\n",
    "    \"Very bad movies masquerading as a blockbuster! Salaar tries to dazzle with its style but it all a glossy facade with no real depth\"\n",
    "]\n",
    "\n",
    "for review in input_reviews:\n",
    "    print(\"\\nReview:\", review)\n",
    "    probdist = classifier.prob_classify(extract_features(review.split()))\n",
    "    pred_sentiment = probdist.max()\n",
    "\n",
    "    print(\"Predicted sentiment:\", pred_sentiment)\n",
    "    print(\"Probability:\", round(probdist.prob(pred_sentiment), 2))"
   ]
  },
  {
   "cell_type": "code",
   "execution_count": null,
   "id": "1b6d394c",
   "metadata": {},
   "outputs": [],
   "source": []
  }
 ],
 "metadata": {
  "kernelspec": {
   "display_name": "Python 3 (ipykernel)",
   "language": "python",
   "name": "python3"
  },
  "language_info": {
   "codemirror_mode": {
    "name": "ipython",
    "version": 3
   },
   "file_extension": ".py",
   "mimetype": "text/x-python",
   "name": "python",
   "nbconvert_exporter": "python",
   "pygments_lexer": "ipython3",
   "version": "3.11.5"
  }
 },
 "nbformat": 4,
 "nbformat_minor": 5
}
